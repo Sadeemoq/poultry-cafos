{
 "cells": [
  {
   "cell_type": "code",
   "execution_count": 1,
   "metadata": {},
   "outputs": [],
   "source": [
    "# Copyright (c) Microsoft Corporation. All rights reserved\n",
    "# Licensed under the MIT License.\n",
    "%matplotlib inline\n",
    "import sys, os, time\n",
    "sys.path.append(\"..\")\n",
    "from collections import defaultdict\n",
    "\n",
    "import numpy as np\n",
    "import pandas as pd\n",
    "\n",
    "import matplotlib.pyplot as plt\n",
    "\n",
    "import fiona\n",
    "import fiona.transform\n",
    "import shapely\n",
    "import shapely.geometry\n",
    "\n",
    "from scipy.stats import spearmanr\n",
    "\n",
    "from cafo.utils import filter_polygon"
   ]
  },
  {
   "cell_type": "code",
   "execution_count": 2,
   "metadata": {},
   "outputs": [
    {
     "name": "stdout",
     "output_type": "stream",
     "text": [
      "{'init': 'epsg:4326'}\n"
     ]
    }
   ],
   "source": [
    "cb_county_fips = []\n",
    "cb_county_shapes = []\n",
    "with fiona.open(\"../data/chesapeake-bay-counties_epsg4326.geojson\") as f:\n",
    "    print(f.crs)\n",
    "    for row in f:\n",
    "        cb_county_fips.append(row[\"properties\"][\"GEOID\"])\n",
    "        cb_county_shapes.append(shapely.geometry.shape(row[\"geometry\"]))"
   ]
  },
  {
   "cell_type": "code",
   "execution_count": 3,
   "metadata": {},
   "outputs": [
    {
     "name": "stdout",
     "output_type": "stream",
     "text": [
      "{'init': 'epsg:4326'}\n"
     ]
    }
   ],
   "source": [
    "prediction_shapes = []\n",
    "prediction_shape_areas = []\n",
    "num_rejected_shapes = 0\n",
    "with fiona.open(\"../output/inference/cb_predictions_3_18_2021.gpkg\") as f:\n",
    "    print(f.crs)\n",
    "    for row in f:\n",
    "        if filter_polygon(**row[\"properties\"]):\n",
    "            prediction_shapes.append(shapely.geometry.shape(row[\"geometry\"]))\n",
    "            prediction_shape_areas.append(row[\"properties\"][\"rectangle_area\"])\n",
    "        else:\n",
    "            num_rejected_shapes += 1"
   ]
  },
  {
   "cell_type": "code",
   "execution_count": 4,
   "metadata": {},
   "outputs": [
    {
     "data": {
      "text/plain": [
       "26311"
      ]
     },
     "execution_count": 4,
     "metadata": {},
     "output_type": "execute_result"
    }
   ],
   "source": [
    "len(prediction_shapes)"
   ]
  },
  {
   "cell_type": "code",
   "execution_count": 5,
   "metadata": {},
   "outputs": [
    {
     "name": "stdout",
     "output_type": "stream",
     "text": [
      "CPU times: user 1min 43s, sys: 429 ms, total: 1min 43s\n",
      "Wall time: 1min 43s\n"
     ]
    }
   ],
   "source": [
    "%%time\n",
    "\n",
    "prediction_county_idxs = []\n",
    "for prediction_idx, prediction in enumerate(prediction_shapes):\n",
    "    county_idx = None\n",
    "    for i, county in enumerate(cb_county_shapes):\n",
    "        if county.contains(prediction) or county.intersects(prediction):\n",
    "            county_idx = i\n",
    "            break\n",
    "    prediction_county_idxs.append(county_idx)"
   ]
  },
  {
   "cell_type": "code",
   "execution_count": 6,
   "metadata": {},
   "outputs": [],
   "source": [
    "summed_area_by_county = defaultdict(int)\n",
    "counts_by_county = defaultdict(int)\n",
    "for i in range(len(prediction_county_idxs)):\n",
    "    \n",
    "    county_idx = prediction_county_idxs[i]\n",
    "    if county_idx is not None:    \n",
    "        county_geoid = cb_county_fips[county_idx]\n",
    "        area = prediction_shape_areas[i]\n",
    "\n",
    "        summed_area_by_county[county_geoid] += area\n",
    "        counts_by_county[county_geoid] += 1"
   ]
  },
  {
   "cell_type": "code",
   "execution_count": 7,
   "metadata": {},
   "outputs": [],
   "source": [
    "df = pd.read_csv(\n",
    "    \"../data/agcensus_data/poultry_totals_by_county.csv\",\n",
    "    dtype={\n",
    "        \"State ANSI\": str,\n",
    "        \"County ANSI\": str\n",
    "    }\n",
    ")\n",
    "df[\"GEOID\"] = df[\"State ANSI\"] + df[\"County ANSI\"]\n",
    "df.set_index(\"GEOID\", inplace=True)"
   ]
  },
  {
   "cell_type": "code",
   "execution_count": 8,
   "metadata": {},
   "outputs": [],
   "source": [
    "predicted_areas = []\n",
    "predicted_counts = []\n",
    "gt_counts = []\n",
    "\n",
    "for geoid in cb_county_fips:\n",
    "    predicted_area = summed_area_by_county[geoid]\n",
    "    predicted_count = counts_by_county[geoid]\n",
    "    \n",
    "    if geoid in df.index:\n",
    "        gt_count = int(df[\"Value\"][geoid].replace(\",\",\"\"))\n",
    "    else:\n",
    "        gt_count = 0\n",
    "    \n",
    "    predicted_areas.append(predicted_area)\n",
    "    predicted_counts.append(predicted_count)\n",
    "    gt_counts.append(gt_count)\n",
    "    \n",
    "predicted_areas = np.array(predicted_areas)\n",
    "predicted_counts = np.array(predicted_counts)\n",
    "gt_counts = np.array(gt_counts)"
   ]
  },
  {
   "cell_type": "code",
   "execution_count": 9,
   "metadata": {},
   "outputs": [
    {
     "data": {
      "text/plain": [
       "SpearmanrResult(correlation=0.6273891646985044, pvalue=7.865482796695445e-24)"
      ]
     },
     "execution_count": 9,
     "metadata": {},
     "output_type": "execute_result"
    }
   ],
   "source": [
    "spearmanr(predicted_areas, gt_counts)"
   ]
  },
  {
   "cell_type": "code",
   "execution_count": 10,
   "metadata": {},
   "outputs": [
    {
     "data": {
      "text/plain": [
       "SpearmanrResult(correlation=0.6265809432064507, pvalue=9.330082081816796e-24)"
      ]
     },
     "execution_count": 10,
     "metadata": {},
     "output_type": "execute_result"
    }
   ],
   "source": [
    "spearmanr(predicted_counts, gt_counts)"
   ]
  },
  {
   "cell_type": "markdown",
   "metadata": {},
   "source": [
    "## Get finer scale"
   ]
  },
  {
   "cell_type": "code",
   "execution_count": 11,
   "metadata": {},
   "outputs": [],
   "source": [
    "df = pd.read_csv(\n",
    "    \"../data/agcensus_data/agcensus_2017_chickens.csv\",\n",
    "    dtype={\n",
    "        \"State ANSI\": str,\n",
    "        \"County ANSI\": str\n",
    "    }\n",
    ")\n",
    "df[\"GEOID\"] = df[\"State ANSI\"] + df[\"County ANSI\"]\n",
    "df.set_index(\"GEOID\", inplace=True)"
   ]
  },
  {
   "cell_type": "code",
   "execution_count": 12,
   "metadata": {},
   "outputs": [],
   "source": [
    "options = [\n",
    "    'INVENTORY: (1 TO 49 HEAD)',\n",
    "    'INVENTORY: (50 TO 99 HEAD)',\n",
    "    'INVENTORY: (100 TO 399 HEAD)',\n",
    "    'INVENTORY: (400 TO 3,199 HEAD)',\n",
    "    'INVENTORY: (3,200 TO 9,999 HEAD)',\n",
    "    'INVENTORY: (10,000 TO 19,999 HEAD)',\n",
    "    'INVENTORY: (20,000 TO 49,999 HEAD)',\n",
    "    'INVENTORY: (50,000 TO 99,999 HEAD)',\n",
    "    'INVENTORY: (100,000 OR MORE HEAD)',\n",
    "]"
   ]
  },
  {
   "cell_type": "code",
   "execution_count": 13,
   "metadata": {},
   "outputs": [
    {
     "name": "stdout",
     "output_type": "stream",
     "text": [
      "INVENTORY: (1 TO 49 HEAD);0.19 (0.0116);175\n",
      "INVENTORY: (50 TO 99 HEAD);0.01 (0.9287);154\n",
      "INVENTORY: (100 TO 399 HEAD);0.15 (0.0680);140\n",
      "INVENTORY: (400 TO 3,199 HEAD);0.04 (0.7366);72\n",
      "INVENTORY: (3,200 TO 9,999 HEAD);0.18 (0.3376);31\n",
      "INVENTORY: (10,000 TO 19,999 HEAD);0.61 (0.0001);33\n",
      "INVENTORY: (20,000 TO 49,999 HEAD);0.59 (0.0001);38\n",
      "INVENTORY: (50,000 TO 99,999 HEAD);0.73 (0.0010);17\n",
      "INVENTORY: (100,000 OR MORE HEAD);0.42 (0.1189);15\n"
     ]
    }
   ],
   "source": [
    "data_item_key = \"CHICKENS, LAYERS - OPERATIONS WITH INVENTORY\"\n",
    "for option in options:\n",
    "    \n",
    "    mask = (df[\"Data Item\"] == data_item_key) & (df[\"Domain Category\"] == option)\n",
    "    sub_df = df[mask]\n",
    "    \n",
    "    predicted_areas = []\n",
    "    predicted_counts = []\n",
    "    gt_counts = []\n",
    "\n",
    "    for geoid in sub_df.index:\n",
    "    \n",
    "        if geoid in cb_county_fips:\n",
    "\n",
    "            predicted_area = summed_area_by_county[geoid]\n",
    "            predicted_count = counts_by_county[geoid]\n",
    "            gt_count = int(sub_df[\"Value\"][geoid].replace(\",\",\"\"))\n",
    "        \n",
    "            predicted_areas.append(predicted_area)\n",
    "            predicted_counts.append(predicted_count)\n",
    "            gt_counts.append(gt_count)\n",
    "\n",
    "    predicted_areas = np.array(predicted_areas)\n",
    "    predicted_counts = np.array(predicted_counts)\n",
    "    gt_counts = np.array(gt_counts)\n",
    "    \n",
    "    rho, p = spearmanr(predicted_areas, gt_counts)    \n",
    "    print(\"%s;%0.2f (%0.4f);%d\" % (option, rho, p, len(predicted_areas)))"
   ]
  },
  {
   "cell_type": "code",
   "execution_count": 14,
   "metadata": {},
   "outputs": [
    {
     "name": "stdout",
     "output_type": "stream",
     "text": [
      "Using anything >= INVENTORY: (1 TO 49 HEAD)\n",
      "Area 0.50 (0.0000)  n=205\n",
      "Counts 0.50 (0.0000)  n=205\n",
      "Using anything >= INVENTORY: (50 TO 99 HEAD)\n",
      "Area 0.52 (0.0000)  n=205\n",
      "Counts 0.53 (0.0000)  n=205\n",
      "Using anything >= INVENTORY: (100 TO 399 HEAD)\n",
      "Area 0.57 (0.0000)  n=205\n",
      "Counts 0.57 (0.0000)  n=205\n",
      "Using anything >= INVENTORY: (400 TO 3,199 HEAD)\n",
      "Area 0.55 (0.0000)  n=205\n",
      "Counts 0.54 (0.0000)  n=205\n",
      "Using anything >= INVENTORY: (3,200 TO 9,999 HEAD)\n",
      "Area 0.55 (0.0000)  n=205\n",
      "Counts 0.52 (0.0000)  n=205\n",
      "Using anything >= INVENTORY: (10,000 TO 19,999 HEAD)\n",
      "Area 0.59 (0.0000)  n=205\n",
      "Counts 0.56 (0.0000)  n=205\n",
      "Using anything >= INVENTORY: (20,000 TO 49,999 HEAD)\n",
      "Area 0.57 (0.0000)  n=205\n",
      "Counts 0.55 (0.0000)  n=205\n",
      "Using anything >= INVENTORY: (50,000 TO 99,999 HEAD)\n",
      "Area 0.38 (0.0000)  n=205\n",
      "Counts 0.36 (0.0000)  n=205\n",
      "Using anything >= INVENTORY: (100,000 OR MORE HEAD)\n",
      "Area 0.28 (0.0001)  n=205\n",
      "Counts 0.27 (0.0001)  n=205\n"
     ]
    }
   ],
   "source": [
    "data_item_key = \"CHICKENS, LAYERS - OPERATIONS WITH INVENTORY\"\n",
    "\n",
    "xs = []\n",
    "ys = []\n",
    "\n",
    "for starting_index in range(9):\n",
    "    print(\"Using anything >= %s\" % (options[starting_index]))\n",
    "    \n",
    "    predicted_areas = {}\n",
    "    predicted_counts = {}\n",
    "    gt_counts = {}\n",
    "\n",
    "    for option in options[starting_index:]:\n",
    "        mask = (df[\"Data Item\"] == data_item_key) & (df[\"Domain Category\"] == option)\n",
    "        sub_df = df[mask]\n",
    "\n",
    "        for geoid in cb_county_fips:\n",
    "\n",
    "            predicted_area = 0\n",
    "            predicted_count = 0\n",
    "            if geoid in summed_area_by_county:\n",
    "                predicted_area = summed_area_by_county[geoid]\n",
    "                predicted_count = counts_by_county[geoid]\n",
    "\n",
    "            gt_count = 0\n",
    "            if geoid in sub_df.index:\n",
    "                gt_count = int(sub_df[\"Value\"][geoid].replace(\",\",\"\"))\n",
    "\n",
    "            if geoid not in predicted_areas:\n",
    "                predicted_areas[geoid] = predicted_area\n",
    "            if geoid not in predicted_counts:\n",
    "                predicted_counts[geoid] = predicted_count\n",
    "\n",
    "            if geoid not in gt_counts:\n",
    "                gt_counts[geoid] = gt_count\n",
    "            else:\n",
    "                gt_counts[geoid] += gt_count\n",
    "\n",
    "    predicted_areas_flat = []\n",
    "    predicted_counts_flat = []\n",
    "    gt_counts_flat = []\n",
    "    for k in gt_counts.keys():\n",
    "        predicted_areas_flat.append(predicted_areas[k])\n",
    "        predicted_counts_flat.append(predicted_counts[k])\n",
    "        gt_counts_flat.append(gt_counts[k])\n",
    "\n",
    "\n",
    "    predicted_areas_flat = np.array(predicted_areas_flat)\n",
    "    predicted_counts_flat = np.array(predicted_counts_flat)\n",
    "    gt_counts_flat = np.array(gt_counts_flat)\n",
    "\n",
    "    rho, p = spearmanr(predicted_areas_flat, gt_counts_flat)\n",
    "    print(\"Area %0.2f (%0.4f)  n=%d\" % (rho, p, len(gt_counts_flat)))\n",
    "    \n",
    "    xs.append(options[starting_index])\n",
    "    ys.append(rho)\n",
    "\n",
    "    rho, p = spearmanr(predicted_counts_flat, gt_counts_flat)\n",
    "    print(\"Counts %0.2f (%0.4f)  n=%d\" % (rho, p, len(gt_counts_flat)))"
   ]
  },
  {
   "cell_type": "code",
   "execution_count": 15,
   "metadata": {},
   "outputs": [],
   "source": [
    "xs = [\n",
    "    \"$\\geq$ 1\",\n",
    "    \"$\\geq$ 50\",\n",
    "    \"$\\geq$ 100\",\n",
    "    \"$\\geq$ 400\",\n",
    "    \"$\\geq$ 3,200\",\n",
    "    \"$\\geq$ 10,000\",\n",
    "    \"$\\geq$ 20,000\",\n",
    "    \"$\\geq$ 50,000\",\n",
    "    \"$\\geq$ 100,000\"\n",
    "]"
   ]
  },
  {
   "cell_type": "code",
   "execution_count": 16,
   "metadata": {},
   "outputs": [
    {
     "data": {
      "image/png": "[encoded data removed]",
      "text/plain": [
       "<Figure size 576x288 with 1 Axes>"
      ]
     },
     "metadata": {
      "needs_background": "light"
     },
     "output_type": "display_data"
    }
   ],
   "source": [
    "plt.figure(figsize=(8,4))\n",
    "ax = plt.gca()\n",
    "plt.bar(xs, ys)\n",
    "plt.xticks(rotation=15, fontsize=13)\n",
    "plt.yticks(fontsize=13)\n",
    "plt.ylabel(\"Spearman's ρ\", fontsize=15)\n",
    "plt.xlabel(\"Size of farm (# of chickens)\", fontsize=15)\n",
    "plt.title(\"Correlation between predicted areas and\\nAgCensus farm counts by county\", fontsize=15)\n",
    "ax.spines['right'].set_visible(False)\n",
    "ax.spines['top'].set_visible(False)\n",
    "ax.spines['left'].set_visible(False)\n",
    "plt.show()\n",
    "plt.close()"
   ]
  },
  {
   "cell_type": "code",
   "execution_count": null,
   "metadata": {},
   "outputs": [],
   "source": []
  }
 ],
 "metadata": {
  "kernelspec": {
   "display_name": "cafo",
   "language": "python",
   "name": "conda-env-cafo-py"
  },
  "language_info": {
   "codemirror_mode": {
    "name": "ipython",
    "version": 3
   },
   "file_extension": ".py",
   "mimetype": "text/x-python",
   "name": "python",
   "nbconvert_exporter": "python",
   "pygments_lexer": "ipython3",
   "version": "3.7.7"
  }
 },
 "nbformat": 4,
 "nbformat_minor": 4
}
