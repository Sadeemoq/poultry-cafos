{
 "cells": [
  {
   "cell_type": "code",
   "execution_count": 1,
   "metadata": {},
   "outputs": [],
   "source": [
    "# Copyright (c) Microsoft Corporation. All rights reserved\n",
    "# Licensed under the MIT License.\n",
    "%matplotlib inline\n",
    "import math\n",
    "import numpy as np\n",
    "import matplotlib.pyplot as plt\n",
    "\n",
    "import fiona\n",
    "import shapely\n",
    "import shapely.geometry"
   ]
  },
  {
   "cell_type": "code",
   "execution_count": 2,
   "metadata": {},
   "outputs": [],
   "source": [
    "def distance(pt1, pt2):\n",
    "    return math.sqrt((pt1[0] - pt2[0])**2 + (pt1[1] - pt2[1])**2)\n",
    "\n",
    "def get_side_lengths(shape):\n",
    "    xs, ys = shape.boundary.xy\n",
    "    pts = list(zip(xs, ys))\n",
    "    lengths = []\n",
    "    for i in range(len(pts)-1):\n",
    "        lengths.append(distance(pts[i], pts[i+1]))\n",
    "    assert len(lengths) == 4\n",
    "    return sorted(lengths)"
   ]
  },
  {
   "cell_type": "code",
   "execution_count": 3,
   "metadata": {},
   "outputs": [],
   "source": [
    "f = fiona.open(\"../data/Delmarva_PL_House_Final2_epsg32618.geojson\",\"r\")\n",
    "side_lengths = []\n",
    "areas = []\n",
    "for row in f:\n",
    "    if row[\"geometry\"][\"type\"] == \"Polygon\":\n",
    "        shape = shapely.geometry.shape(row[\"geometry\"])\n",
    "        areas.append(shape.area)\n",
    "        num_points = len(row[\"geometry\"][\"coordinates\"][0])\n",
    "        if num_points == 5: # if the polygon is made up of 5 points then it is a rectangle and we can directly compute side lengths\n",
    "            side_lengths.append(get_side_lengths(shape))\n",
    "        else: # if the polygon is made up of different numbers of points then we use the minimum bounding rectangle\n",
    "            side_lengths.append(get_side_lengths(shape.minimum_rotated_rectangle))\n",
    "    else: # we have a MultiPolygon, run the above logic for each Polygon in the MultiPolygon\n",
    "        for coordinates in row[\"geometry\"][\"coordinates\"]:\n",
    "            new_geom = {\n",
    "                'type': 'Polygon',\n",
    "                'coordinates': coordinates\n",
    "            }\n",
    "            shape = shapely.geometry.shape(new_geom)\n",
    "            if shape.area > 100:\n",
    "                side_lengths.append(get_side_lengths(shape.minimum_rotated_rectangle))\n",
    "                areas.append(shape.area)\n",
    "f.close()\n",
    "\n",
    "side_lengths = np.array(side_lengths)"
   ]
  },
  {
   "cell_type": "code",
   "execution_count": 5,
   "metadata": {},
   "outputs": [],
   "source": [
    "short_sides = side_lengths[:,:2].mean(axis=1)\n",
    "long_sides = side_lengths[:,2:].mean(axis=1)"
   ]
  },
  {
   "cell_type": "code",
   "execution_count": 16,
   "metadata": {},
   "outputs": [],
   "source": [
    "aspect_ratios = long_sides / short_sides"
   ]
  },
  {
   "cell_type": "code",
   "execution_count": 12,
   "metadata": {},
   "outputs": [
    {
     "data": {
      "image/png": "[encoded data removed]",
      "text/plain": [
       "<Figure size 432x288 with 1 Axes>"
      ]
     },
     "metadata": {
      "needs_background": "light"
     },
     "output_type": "display_data"
    }
   ],
   "source": [
    "plt.figure()\n",
    "plt.hist(long_sides / short_sides,bins=20)\n",
    "plt.xlabel(\"Aspect ratio\", fontsize=18)\n",
    "plt.ylabel(\"Count (n=%d)\" % (long_sides.shape[0]), fontsize=18)\n",
    "#plt.title(\"Average %0.2f +/- %0.2f\" % (aspect_rations.mean(), aspect_rations.std()), fontsize=16)\n",
    "plt.xticks(fontsize=14)\n",
    "plt.yticks(fontsize=14)\n",
    "plt.show()\n",
    "plt.close()"
   ]
  },
  {
   "cell_type": "code",
   "execution_count": 13,
   "metadata": {},
   "outputs": [
    {
     "data": {
      "image/png": "[encoded data removed]",
      "text/plain": [
       "<Figure size 432x288 with 1 Axes>"
      ]
     },
     "metadata": {
      "needs_background": "light"
     },
     "output_type": "display_data"
    }
   ],
   "source": [
    "plt.figure()\n",
    "plt.hist(areas,bins=20)\n",
    "plt.xlabel(\"Area (m$^2$)\", fontsize=18)\n",
    "plt.ylabel(\"Count (n=%d)\" % (long_sides.shape[0]), fontsize=18)\n",
    "#plt.title(\"Average %0.2f +/- %0.2f\" % (np.mean(areas), np.std(areas)), fontsize=16)\n",
    "plt.xticks(fontsize=14)\n",
    "plt.yticks(fontsize=14)\n",
    "plt.show()\n",
    "plt.close()"
   ]
  },
  {
   "cell_type": "code",
   "execution_count": 17,
   "metadata": {},
   "outputs": [
    {
     "data": {
      "text/plain": [
       "(3.4078225459545908, 20.48807710637452, 9.10493430249357, 1.7241845938993345)"
      ]
     },
     "execution_count": 17,
     "metadata": {},
     "output_type": "execute_result"
    }
   ],
   "source": [
    "(aspect_ratios).min(), (aspect_ratios).max(), np.mean(aspect_ratios), np.std(aspect_ratios)"
   ]
  },
  {
   "cell_type": "code",
   "execution_count": 18,
   "metadata": {},
   "outputs": [
    {
     "data": {
      "text/plain": [
       "(525.6897190947814, 8106.531598143512, 2477.1836699627065, 849.6915693459088)"
      ]
     },
     "execution_count": 18,
     "metadata": {},
     "output_type": "execute_result"
    }
   ],
   "source": [
    "min(areas), max(areas), np.mean(areas), np.std(areas)"
   ]
  },
  {
   "cell_type": "code",
   "execution_count": null,
   "metadata": {},
   "outputs": [],
   "source": []
  }
 ],
 "metadata": {
  "kernelspec": {
   "display_name": "cafo",
   "language": "python",
   "name": "conda-env-cafo-py"
  },
  "language_info": {
   "codemirror_mode": {
    "name": "ipython",
    "version": 3
   },
   "file_extension": ".py",
   "mimetype": "text/x-python",
   "name": "python",
   "nbconvert_exporter": "python",
   "pygments_lexer": "ipython3",
   "version": "3.7.7"
  }
 },
 "nbformat": 4,
 "nbformat_minor": 4
}
